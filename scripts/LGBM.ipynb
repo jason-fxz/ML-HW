{
 "cells": [
  {
   "cell_type": "code",
   "execution_count": 3,
   "id": "371aeb8d",
   "metadata": {},
   "outputs": [
    {
     "name": "stdout",
     "output_type": "stream",
     "text": [
      "e:\\GitHub\\Crossformer\\scripts\n",
      "                      HUFL   HULL   MUFL   MULL   LUFL   LULL         OT\n",
      "date                                                                    \n",
      "2016-07-01 00:00:00  5.827  2.009  1.599  0.462  4.203  1.340  30.531000\n",
      "2016-07-01 01:00:00  5.693  2.076  1.492  0.426  4.142  1.371  27.787001\n",
      "2016-07-01 02:00:00  5.157  1.741  1.279  0.355  3.777  1.218  27.787001\n",
      "2016-07-01 03:00:00  5.090  1.942  1.279  0.391  3.807  1.279  25.044001\n",
      "2016-07-01 04:00:00  5.358  1.942  1.492  0.462  3.868  1.279  21.948000\n"
     ]
    }
   ],
   "source": [
    "import pandas as pd\n",
    "import os\n",
    "# 假设你已下载 ETTh1.csv 数据\n",
    "print(os.getcwd())\n",
    "df = pd.read_csv('./../datasets/ETTh1.csv')\n",
    "\n",
    "# 日期列转为时间戳\n",
    "df['date'] = pd.to_datetime(df['date'])\n",
    "\n",
    "# 设置时间索引\n",
    "df.set_index('date', inplace=True)\n",
    "\n",
    "# 查看数据结构\n",
    "print(df.head())"
   ]
  }
 ],
 "metadata": {
  "kernelspec": {
   "display_name": "crossformer",
   "language": "python",
   "name": "python3"
  },
  "language_info": {
   "codemirror_mode": {
    "name": "ipython",
    "version": 3
   },
   "file_extension": ".py",
   "mimetype": "text/x-python",
   "name": "python",
   "nbconvert_exporter": "python",
   "pygments_lexer": "ipython3",
   "version": "3.7.10"
  }
 },
 "nbformat": 4,
 "nbformat_minor": 5
}
