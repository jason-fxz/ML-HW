{
 "cells": [
  {
   "cell_type": "code",
   "execution_count": null,
   "id": "81dbb106",
   "metadata": {},
   "outputs": [],
   "source": []
  },
  {
   "cell_type": "code",
   "execution_count": null,
   "id": "c886263b",
   "metadata": {},
   "outputs": [],
   "source": [
    "from statsmodels.tsa.seasonal import STL\n",
    "res = STL(df['OT'], period=24).fit()\n",
    "df['OT_trend'] = res.trend\n",
    "df['OT_seasonal'] = res.seasonal"
   ]
  }
 ],
 "metadata": {
  "kernelspec": {
   "display_name": "crossformer",
   "language": "python",
   "name": "python3"
  },
  "language_info": {
   "name": "python",
   "version": "3.7.10"
  }
 },
 "nbformat": 4,
 "nbformat_minor": 5
}
