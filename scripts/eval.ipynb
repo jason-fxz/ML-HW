{
 "cells": [
  {
   "cell_type": "code",
   "execution_count": 1,
   "id": "48b30fea",
   "metadata": {},
   "outputs": [],
   "source": [
    "def process_data(data : str):\n",
    "    mses = []\n",
    "    maes = []\n",
    "    for line in data.splitlines():\n",
    "        a = line.split(\", \")\n",
    "        if len(a) == 2:\n",
    "            mse = float(a[0].split(\":\")[1])\n",
    "            mae = float(a[1].split(\":\")[1])\n",
    "            mses.append(mse)\n",
    "            maes.append(mae)\n",
    "    avg_mse = sum(mses) / len(mses)\n",
    "    avg_mae = sum(maes) / len(maes)\n",
    "    diff_mse = max(mses) - min(mses)\n",
    "    diff_mae = max(maes) - min(maes)\n",
    "    print(f\"avg_mse: {avg_mse} diff: {diff_mse}\")\n",
    "    print(f\"avg_mae: {avg_mae} diff: {diff_mae}\")\n",
    "\n",
    "\n"
   ]
  },
  {
   "cell_type": "code",
   "execution_count": 7,
   "id": "a18fb702",
   "metadata": {},
   "outputs": [
    {
     "name": "stdout",
     "output_type": "stream",
     "text": [
      "avg_mse: 0.40972123146057127 diff: 0.00948190689086914\n",
      "avg_mae: 0.443145227432251 diff: 0.006961196660995483\n"
     ]
    }
   ],
   "source": [
    "data=\"\"\"\n",
    "Use GPU: cuda:1\n",
    "Enable data cleaning: False\n",
    "type: 2\n",
    "total length: 2713\n",
    "Data length: 2713\n",
    "mse:0.4117203652858734, mae:0.44726264476776123\n",
    "已保存可视化结果到 ./results/Crossformer_ETTh1_il720_ol168_sl24_win2_fa10_dm256_nh4_el3_itr0/visualization\n",
    "Use GPU: cuda:1\n",
    "Enable data cleaning: False\n",
    "type: 2\n",
    "total length: 2713\n",
    "Data length: 2713\n",
    "mse:0.4056874215602875, mae:0.44112443923950195\n",
    "已保存可视化结果到 ./results/Crossformer_ETTh1_il720_ol168_sl24_win2_fa10_dm256_nh4_el3_itr1/visualization\n",
    "Use GPU: cuda:1\n",
    "Enable data cleaning: False\n",
    "type: 2\n",
    "total length: 2713\n",
    "Data length: 2713\n",
    "mse:0.4151693284511566, mae:0.44626379013061523\n",
    "已保存可视化结果到 ./results/Crossformer_ETTh1_il720_ol168_sl24_win2_fa10_dm256_nh4_el3_itr2/visualization\n",
    "Use GPU: cuda:1\n",
    "Enable data cleaning: False\n",
    "type: 2\n",
    "total length: 2713\n",
    "Data length: 2713\n",
    "mse:0.4070490896701813, mae:0.4407738149166107\n",
    "已保存可视化结果到 ./results/Crossformer_ETTh1_il720_ol168_sl24_win2_fa10_dm256_nh4_el3_itr3/visualization\n",
    "Use GPU: cuda:1\n",
    "Enable data cleaning: False\n",
    "type: 2\n",
    "total length: 2713\n",
    "Data length: 2713\n",
    "mse:0.40897995233535767, mae:0.44030144810676575\n",
    "已保存可视化结果到 ./results/Crossformer_ETTh1_il720_ol168_sl24_win2_fa10_dm256_nh4_el3_itr4/visualization\n",
    "\"\"\"\n",
    "\n",
    "process_data(data)"
   ]
  },
  {
   "cell_type": "code",
   "execution_count": 9,
   "id": "a9675047",
   "metadata": {},
   "outputs": [
    {
     "name": "stdout",
     "output_type": "stream",
     "text": [
      "avg_mse: 0.4062389135360718 diff: 0.0046828389167785645\n",
      "avg_mae: 0.439052951335907 diff: 0.006406158208847046\n"
     ]
    }
   ],
   "source": [
    "process_data(\"\"\"\n",
    "Use GPU: cuda:1\n",
    "Enable data cleaning: False\n",
    "type: 2\n",
    "total length: 2713\n",
    "Data length: 2713\n",
    "mse:0.4086351990699768, mae:0.44279348850250244\n",
    "已保存可视化结果到 ./results/Crossformer_ETTh1_time_tag_il720_ol168_sl24_win2_fa10_dm256_nh4_el3_itr0/visualization\n",
    "Use GPU: cuda:1\n",
    "Enable data cleaning: False\n",
    "type: 2\n",
    "total length: 2713\n",
    "Data length: 2713\n",
    "mse:0.4063063859939575, mae:0.4378522038459778\n",
    "已保存可视化结果到 ./results/Crossformer_ETTh1_time_tag_il720_ol168_sl24_win2_fa10_dm256_nh4_el3_itr1/visualization\n",
    "Use GPU: cuda:1\n",
    "Enable data cleaning: False\n",
    "type: 2\n",
    "total length: 2713\n",
    "Data length: 2713\n",
    "mse:0.4071800410747528, mae:0.44047728180885315\n",
    "已保存可视化结果到 ./results/Crossformer_ETTh1_time_tag_il720_ol168_sl24_win2_fa10_dm256_nh4_el3_itr2/visualization\n",
    "Use GPU: cuda:1\n",
    "Enable data cleaning: False\n",
    "type: 2\n",
    "total length: 2713\n",
    "Data length: 2713\n",
    "mse:0.40395236015319824, mae:0.4363873302936554\n",
    "已保存可视化结果到 ./results/Crossformer_ETTh1_time_tag_il720_ol168_sl24_win2_fa10_dm256_nh4_el3_itr3/visualization\n",
    "Use GPU: cuda:1\n",
    "Enable data cleaning: False\n",
    "type: 2\n",
    "total length: 2713\n",
    "Data length: 2713\n",
    "mse:0.4051205813884735, mae:0.43775445222854614\n",
    "已保存可视化结果到 ./results/Crossformer_ETTh1_time_tag_il720_ol168_sl24_win2_fa10_dm256_nh4_el3_itr4/visualization\n",
    "\"\"\")"
   ]
  },
  {
   "cell_type": "code",
   "execution_count": 5,
   "id": "5550f264",
   "metadata": {},
   "outputs": [
    {
     "name": "stdout",
     "output_type": "stream",
     "text": [
      "avg_mse: 0.5128253698348999 diff: 0.0322454571723938\n",
      "avg_mae: 0.5192951917648315 diff: 0.021932363510131836\n"
     ]
    }
   ],
   "source": [
    "process_data(\"\"\"\n",
    "Use GPU: cuda:1\n",
    "Enable data cleaning: False\n",
    "type: 2\n",
    "total length: 2545\n",
    "Data length: 2545\n",
    "mse:0.5024127960205078, mae:0.5118374228477478\n",
    "已保存可视化结果到 ./results/Crossformer_ETTh1_time_tag_il720_ol336_sl24_win2_fa10_dm256_nh4_el3_itr0/visualization\n",
    "Use GPU: cuda:1\n",
    "Enable data cleaning: False\n",
    "type: 2\n",
    "total length: 2545\n",
    "Data length: 2545\n",
    "mse:0.5113360285758972, mae:0.5188137888908386\n",
    "已保存可视化结果到 ./results/Crossformer_ETTh1_time_tag_il720_ol336_sl24_win2_fa10_dm256_nh4_el3_itr1/visualization\n",
    "Use GPU: cuda:1\n",
    "Enable data cleaning: False\n",
    "type: 2\n",
    "total length: 2545\n",
    "Data length: 2545\n",
    "mse:0.5346582531929016, mae:0.5337697863578796\n",
    "已保存可视化结果到 ./results/Crossformer_ETTh1_time_tag_il720_ol336_sl24_win2_fa10_dm256_nh4_el3_itr2/visualization\n",
    "Use GPU: cuda:1\n",
    "Enable data cleaning: False\n",
    "type: 2\n",
    "total length: 2545\n",
    "Data length: 2545\n",
    "mse:0.5024332404136658, mae:0.5128991007804871\n",
    "已保存可视化结果到 ./results/Crossformer_ETTh1_time_tag_il720_ol336_sl24_win2_fa10_dm256_nh4_el3_itr3/visualization\n",
    "Use GPU: cuda:1\n",
    "Enable data cleaning: False\n",
    "type: 2\n",
    "total length: 2545\n",
    "Data length: 2545\n",
    "mse:0.5132865309715271, mae:0.5191558599472046\n",
    "已保存可视化结果到 ./results/Crossformer_ETTh1_time_tag_il720_ol336_sl24_win2_fa10_dm256_nh4_el3_itr4/visualization\n",
    "\"\"\")"
   ]
  },
  {
   "cell_type": "code",
   "execution_count": 6,
   "id": "0c55cd92",
   "metadata": {},
   "outputs": [
    {
     "name": "stdout",
     "output_type": "stream",
     "text": [
      "avg_mse: 0.46024497747421267 diff: 0.050384342670440674\n",
      "avg_mae: 0.47713886499404906 diff: 0.037287354469299316\n"
     ]
    }
   ],
   "source": [
    "process_data(\"\"\"Use GPU: cuda:1\n",
    "Enable data cleaning: False\n",
    "type: 2\n",
    "total length: 2545\n",
    "Data length: 2545\n",
    "mse:0.4514039158821106, mae:0.4713876247406006\n",
    "已保存可视化结果到 ./results/Crossformer_ETTh1_il720_ol336_sl24_win2_fa10_dm256_nh4_el3_itr0/visualization\n",
    "Use GPU: cuda:1\n",
    "Enable data cleaning: False\n",
    "type: 2\n",
    "total length: 2545\n",
    "Data length: 2545\n",
    "mse:0.4705028235912323, mae:0.48370805382728577\n",
    "已保存可视化结果到 ./results/Crossformer_ETTh1_il720_ol336_sl24_win2_fa10_dm256_nh4_el3_itr1/visualization\n",
    "Use GPU: cuda:1\n",
    "Enable data cleaning: False\n",
    "type: 2\n",
    "total length: 2545\n",
    "Data length: 2545\n",
    "mse:0.4364321231842041, mae:0.46014004945755005\n",
    "已保存可视化结果到 ./results/Crossformer_ETTh1_il720_ol336_sl24_win2_fa10_dm256_nh4_el3_itr2/visualization\n",
    "Use GPU: cuda:1\n",
    "Enable data cleaning: False\n",
    "type: 2\n",
    "total length: 2545\n",
    "Data length: 2545\n",
    "mse:0.45606955885887146, mae:0.4730311930179596\n",
    "已保存可视化结果到 ./results/Crossformer_ETTh1_il720_ol336_sl24_win2_fa10_dm256_nh4_el3_itr3/visualization\n",
    "Use GPU: cuda:1\n",
    "Enable data cleaning: False\n",
    "type: 2\n",
    "total length: 2545\n",
    "Data length: 2545\n",
    "mse:0.4868164658546448, mae:0.49742740392684937\n",
    "已保存可视化结果到 ./results/Crossformer_ETTh1_il720_ol336_sl24_win2_fa10_dm256_nh4_el3_itr4/visualization\"\"\")"
   ]
  },
  {
   "cell_type": "code",
   "execution_count": null,
   "id": "cc998ab9",
   "metadata": {},
   "outputs": [],
   "source": []
  }
 ],
 "metadata": {
  "kernelspec": {
   "display_name": "ML",
   "language": "python",
   "name": "python3"
  },
  "language_info": {
   "codemirror_mode": {
    "name": "ipython",
    "version": 3
   },
   "file_extension": ".py",
   "mimetype": "text/x-python",
   "name": "python",
   "nbconvert_exporter": "python",
   "pygments_lexer": "ipython3",
   "version": "3.7.10"
  }
 },
 "nbformat": 4,
 "nbformat_minor": 5
}
